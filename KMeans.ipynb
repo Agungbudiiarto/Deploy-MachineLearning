{
  "cells": [
    {
      "cell_type": "code",
      "execution_count": null,
      "metadata": {
        "id": "0U7yMmIGYxTH"
      },
      "outputs": [],
      "source": [
        "import pandas as pd\n",
        "import numpy as np\n",
        "import matplotlib.pyplot as plt\n",
        "from sklearn.cluster import KMeans\n",
        "from sklearn.preprocessing import MinMaxScaler"
      ]
    },
    {
      "cell_type": "code",
      "execution_count": null,
      "metadata": {
        "colab": {
          "base_uri": "https://localhost:8080/"
        },
        "id": "ONeAl9-jY1tY",
        "outputId": "bf7e7652-eba0-4f61-f6b6-d5b86485df10"
      },
      "outputs": [
        {
          "name": "stdout",
          "output_type": "stream",
          "text": [
            "   No    Nama  Kehadiran  Kedisiplinan  TanggungJawab  Attitude  Komunikasi  \\\n",
            "0   1   Agung          5             5              4         5           5   \n",
            "1   2    Agus          5             5              5         5           4   \n",
            "2   3    Asep          4             5              4         4           5   \n",
            "3   4  Andika          4             5              5         4           4   \n",
            "4   5  Andika          3             5              5         3           3   \n",
            "\n",
            "   Jumlah  \n",
            "0      24  \n",
            "1      24  \n",
            "2      22  \n",
            "3      22  \n",
            "4      19  \n"
          ]
        }
      ],
      "source": [
        "df = pd.read_csv('data-last.csv', delimiter=\",\")\n",
        "print(df.head())"
      ]
    },
    {
      "cell_type": "code",
      "execution_count": null,
      "metadata": {
        "colab": {
          "base_uri": "https://localhost:8080/",
          "height": 363
        },
        "id": "7l1Hl72DZK6v",
        "outputId": "3d8c8a5e-16fc-4394-ecaa-649310e016c0"
      },
      "outputs": [
        {
          "data": {
            "text/html": [
              "<div>\n",
              "<style scoped>\n",
              "    .dataframe tbody tr th:only-of-type {\n",
              "        vertical-align: middle;\n",
              "    }\n",
              "\n",
              "    .dataframe tbody tr th {\n",
              "        vertical-align: top;\n",
              "    }\n",
              "\n",
              "    .dataframe thead th {\n",
              "        text-align: right;\n",
              "    }\n",
              "</style>\n",
              "<table border=\"1\" class=\"dataframe\">\n",
              "  <thead>\n",
              "    <tr style=\"text-align: right;\">\n",
              "      <th></th>\n",
              "      <th>No</th>\n",
              "      <th>Nama</th>\n",
              "      <th>Kehadiran</th>\n",
              "      <th>Kedisiplinan</th>\n",
              "      <th>TanggungJawab</th>\n",
              "      <th>Attitude</th>\n",
              "      <th>Komunikasi</th>\n",
              "      <th>Jumlah</th>\n",
              "    </tr>\n",
              "  </thead>\n",
              "  <tbody>\n",
              "    <tr>\n",
              "      <th>0</th>\n",
              "      <td>1</td>\n",
              "      <td>Agung</td>\n",
              "      <td>5</td>\n",
              "      <td>5</td>\n",
              "      <td>4</td>\n",
              "      <td>5</td>\n",
              "      <td>5</td>\n",
              "      <td>24</td>\n",
              "    </tr>\n",
              "    <tr>\n",
              "      <th>1</th>\n",
              "      <td>2</td>\n",
              "      <td>Agus</td>\n",
              "      <td>5</td>\n",
              "      <td>5</td>\n",
              "      <td>5</td>\n",
              "      <td>5</td>\n",
              "      <td>4</td>\n",
              "      <td>24</td>\n",
              "    </tr>\n",
              "    <tr>\n",
              "      <th>2</th>\n",
              "      <td>3</td>\n",
              "      <td>Asep</td>\n",
              "      <td>4</td>\n",
              "      <td>5</td>\n",
              "      <td>4</td>\n",
              "      <td>4</td>\n",
              "      <td>5</td>\n",
              "      <td>22</td>\n",
              "    </tr>\n",
              "    <tr>\n",
              "      <th>3</th>\n",
              "      <td>4</td>\n",
              "      <td>Andika</td>\n",
              "      <td>4</td>\n",
              "      <td>5</td>\n",
              "      <td>5</td>\n",
              "      <td>4</td>\n",
              "      <td>4</td>\n",
              "      <td>22</td>\n",
              "    </tr>\n",
              "    <tr>\n",
              "      <th>4</th>\n",
              "      <td>5</td>\n",
              "      <td>Andika</td>\n",
              "      <td>3</td>\n",
              "      <td>5</td>\n",
              "      <td>5</td>\n",
              "      <td>3</td>\n",
              "      <td>3</td>\n",
              "      <td>19</td>\n",
              "    </tr>\n",
              "    <tr>\n",
              "      <th>5</th>\n",
              "      <td>6</td>\n",
              "      <td>Ariq</td>\n",
              "      <td>3</td>\n",
              "      <td>5</td>\n",
              "      <td>5</td>\n",
              "      <td>3</td>\n",
              "      <td>5</td>\n",
              "      <td>21</td>\n",
              "    </tr>\n",
              "    <tr>\n",
              "      <th>6</th>\n",
              "      <td>7</td>\n",
              "      <td>Aloy</td>\n",
              "      <td>5</td>\n",
              "      <td>5</td>\n",
              "      <td>3</td>\n",
              "      <td>5</td>\n",
              "      <td>5</td>\n",
              "      <td>23</td>\n",
              "    </tr>\n",
              "    <tr>\n",
              "      <th>7</th>\n",
              "      <td>8</td>\n",
              "      <td>Avi</td>\n",
              "      <td>4</td>\n",
              "      <td>5</td>\n",
              "      <td>3</td>\n",
              "      <td>4</td>\n",
              "      <td>5</td>\n",
              "      <td>21</td>\n",
              "    </tr>\n",
              "    <tr>\n",
              "      <th>8</th>\n",
              "      <td>9</td>\n",
              "      <td>Aren</td>\n",
              "      <td>5</td>\n",
              "      <td>5</td>\n",
              "      <td>3</td>\n",
              "      <td>5</td>\n",
              "      <td>5</td>\n",
              "      <td>23</td>\n",
              "    </tr>\n",
              "    <tr>\n",
              "      <th>9</th>\n",
              "      <td>10</td>\n",
              "      <td>Abidah</td>\n",
              "      <td>5</td>\n",
              "      <td>5</td>\n",
              "      <td>3</td>\n",
              "      <td>5</td>\n",
              "      <td>3</td>\n",
              "      <td>21</td>\n",
              "    </tr>\n",
              "  </tbody>\n",
              "</table>\n",
              "</div>"
            ],
            "text/plain": [
              "   No    Nama  Kehadiran  Kedisiplinan  TanggungJawab  Attitude  Komunikasi  \\\n",
              "0   1   Agung          5             5              4         5           5   \n",
              "1   2    Agus          5             5              5         5           4   \n",
              "2   3    Asep          4             5              4         4           5   \n",
              "3   4  Andika          4             5              5         4           4   \n",
              "4   5  Andika          3             5              5         3           3   \n",
              "5   6    Ariq          3             5              5         3           5   \n",
              "6   7    Aloy          5             5              3         5           5   \n",
              "7   8     Avi          4             5              3         4           5   \n",
              "8   9    Aren          5             5              3         5           5   \n",
              "9  10  Abidah          5             5              3         5           3   \n",
              "\n",
              "   Jumlah  \n",
              "0      24  \n",
              "1      24  \n",
              "2      22  \n",
              "3      22  \n",
              "4      19  \n",
              "5      21  \n",
              "6      23  \n",
              "7      21  \n",
              "8      23  \n",
              "9      21  "
            ]
          },
          "execution_count": 3,
          "metadata": {},
          "output_type": "execute_result"
        }
      ],
      "source": [
        "df.head(10)"
      ]
    },
    {
      "cell_type": "code",
      "execution_count": null,
      "metadata": {
        "colab": {
          "base_uri": "https://localhost:8080/"
        },
        "id": "Bkw0ilx8jZRg",
        "outputId": "aba3ca44-9feb-4c48-f634-07abcd166a41"
      },
      "outputs": [
        {
          "data": {
            "text/plain": [
              "array([[5, 5],\n",
              "       [5, 4],\n",
              "       [4, 5],\n",
              "       ...,\n",
              "       [4, 5],\n",
              "       [4, 5],\n",
              "       [4, 5]], dtype=int64)"
            ]
          },
          "execution_count": 4,
          "metadata": {},
          "output_type": "execute_result"
        }
      ],
      "source": [
        "df_x = df.iloc[:, [2,6]].values\n",
        "df_x"
      ]
    },
    {
      "cell_type": "code",
      "execution_count": null,
      "metadata": {
        "colab": {
          "base_uri": "https://localhost:8080/",
          "height": 330
        },
        "id": "xtyBascnjZVD",
        "outputId": "22d5f76b-1910-48cd-b12f-9f4304f4b05f"
      },
      "outputs": [
        {
          "name": "stderr",
          "output_type": "stream",
          "text": [
            "c:\\Users\\Agung\\AppData\\Local\\Programs\\Python\\Python311\\Lib\\site-packages\\sklearn\\cluster\\_kmeans.py:870: FutureWarning: The default value of `n_init` will change from 10 to 'auto' in 1.4. Set the value of `n_init` explicitly to suppress the warning\n",
            "  warnings.warn(\n",
            "c:\\Users\\Agung\\AppData\\Local\\Programs\\Python\\Python311\\Lib\\site-packages\\sklearn\\cluster\\_kmeans.py:870: FutureWarning: The default value of `n_init` will change from 10 to 'auto' in 1.4. Set the value of `n_init` explicitly to suppress the warning\n",
            "  warnings.warn(\n",
            "c:\\Users\\Agung\\AppData\\Local\\Programs\\Python\\Python311\\Lib\\site-packages\\sklearn\\cluster\\_kmeans.py:870: FutureWarning: The default value of `n_init` will change from 10 to 'auto' in 1.4. Set the value of `n_init` explicitly to suppress the warning\n",
            "  warnings.warn(\n",
            "c:\\Users\\Agung\\AppData\\Local\\Programs\\Python\\Python311\\Lib\\site-packages\\sklearn\\cluster\\_kmeans.py:870: FutureWarning: The default value of `n_init` will change from 10 to 'auto' in 1.4. Set the value of `n_init` explicitly to suppress the warning\n",
            "  warnings.warn(\n",
            "c:\\Users\\Agung\\AppData\\Local\\Programs\\Python\\Python311\\Lib\\site-packages\\sklearn\\cluster\\_kmeans.py:870: FutureWarning: The default value of `n_init` will change from 10 to 'auto' in 1.4. Set the value of `n_init` explicitly to suppress the warning\n",
            "  warnings.warn(\n",
            "c:\\Users\\Agung\\AppData\\Local\\Programs\\Python\\Python311\\Lib\\site-packages\\sklearn\\cluster\\_kmeans.py:870: FutureWarning: The default value of `n_init` will change from 10 to 'auto' in 1.4. Set the value of `n_init` explicitly to suppress the warning\n",
            "  warnings.warn(\n",
            "c:\\Users\\Agung\\AppData\\Local\\Programs\\Python\\Python311\\Lib\\site-packages\\sklearn\\cluster\\_kmeans.py:870: FutureWarning: The default value of `n_init` will change from 10 to 'auto' in 1.4. Set the value of `n_init` explicitly to suppress the warning\n",
            "  warnings.warn(\n",
            "c:\\Users\\Agung\\AppData\\Local\\Programs\\Python\\Python311\\Lib\\site-packages\\sklearn\\cluster\\_kmeans.py:870: FutureWarning: The default value of `n_init` will change from 10 to 'auto' in 1.4. Set the value of `n_init` explicitly to suppress the warning\n",
            "  warnings.warn(\n",
            "c:\\Users\\Agung\\AppData\\Local\\Programs\\Python\\Python311\\Lib\\site-packages\\sklearn\\cluster\\_kmeans.py:870: FutureWarning: The default value of `n_init` will change from 10 to 'auto' in 1.4. Set the value of `n_init` explicitly to suppress the warning\n",
            "  warnings.warn(\n",
            "c:\\Users\\Agung\\AppData\\Local\\Programs\\Python\\Python311\\Lib\\site-packages\\sklearn\\cluster\\_kmeans.py:870: FutureWarning: The default value of `n_init` will change from 10 to 'auto' in 1.4. Set the value of `n_init` explicitly to suppress the warning\n",
            "  warnings.warn(\n",
            "C:\\Users\\Agung\\AppData\\Local\\Temp\\ipykernel_9156\\733560811.py:7: ConvergenceWarning: Number of distinct clusters (9) found smaller than n_clusters (10). Possibly due to duplicate points in X.\n",
            "  kmeans.fit(df_x)\n"
          ]
        },
        {
          "data": {
            "image/png": "[encoded data removed]",
            "text/plain": [
              "<Figure size 640x480 with 1 Axes>"
            ]
          },
          "metadata": {},
          "output_type": "display_data"
        }
      ],
      "source": [
        "#2\n",
        "wcss = []\n",
        "\n",
        "for i in range(1,11) :\n",
        "  kmeans = KMeans(n_clusters = i, init = 'k-means++', random_state = 42)\n",
        "\n",
        "  kmeans.fit(df_x)\n",
        "  wcss.append(kmeans.inertia_)\n",
        "  \n",
        "plt.plot(range(1,11), wcss)\n",
        "plt.title('The Elbow Method')\n",
        "plt.xlabel('Number of clusters')\n",
        "plt.ylabel('WCSS')\n",
        "plt.show()"
      ]
    },
    {
      "cell_type": "code",
      "execution_count": null,
      "metadata": {
        "id": "KYqEnfD9jZcf"
      },
      "outputs": [
        {
          "name": "stderr",
          "output_type": "stream",
          "text": [
            "c:\\Users\\Agung\\AppData\\Local\\Programs\\Python\\Python311\\Lib\\site-packages\\sklearn\\cluster\\_kmeans.py:870: FutureWarning: The default value of `n_init` will change from 10 to 'auto' in 1.4. Set the value of `n_init` explicitly to suppress the warning\n",
            "  warnings.warn(\n"
          ]
        }
      ],
      "source": [
        "kmeans = KMeans(n_clusters = 5, init = 'k-means++', random_state = 42)\n",
        "y_kmeans = kmeans.fit_predict(df_x)"
      ]
    },
    {
      "cell_type": "code",
      "execution_count": 13,
      "metadata": {},
      "outputs": [],
      "source": [
        "model = KMeans"
      ]
    },
    {
      "cell_type": "code",
      "execution_count": null,
      "metadata": {
        "colab": {
          "base_uri": "https://localhost:8080/"
        },
        "id": "NlCwwCfqjZfC",
        "outputId": "980696d9-7007-4401-e257-94507bc7631e"
      },
      "outputs": [
        {
          "data": {
            "text/plain": [
              "array([3, 0, 4, 1, 1, 2, 3, 4, 3, 0, 0, 3, 0, 0, 0, 3, 3, 2, 2, 3, 4, 4,\n",
              "       4, 3, 3, 4, 4, 4, 3, 3, 3, 3, 3, 3, 3, 3, 0, 0, 3, 0, 3, 0, 0, 0,\n",
              "       4, 1, 1, 1, 4, 4, 0, 0, 0, 4, 1, 0, 0, 0, 3, 3, 3, 3, 4, 0, 0, 3,\n",
              "       0, 3, 0, 4, 1, 2, 4, 3, 4, 0, 0, 0, 3, 2, 2, 2, 3, 3, 3, 3, 2, 2,\n",
              "       2, 3, 4, 1, 0, 1, 1, 0, 3, 3, 3, 0, 4, 1, 1, 2, 3, 4, 3, 0, 0, 3,\n",
              "       0, 3, 3, 0, 0, 3, 0, 3, 0, 0, 0, 4, 0, 0, 0, 0, 1, 0, 1, 1, 0, 3,\n",
              "       3, 3, 0, 4, 1, 1, 2, 3, 4, 3, 0, 0, 3, 0, 0, 0, 3, 3, 2, 2, 3, 4,\n",
              "       4, 4, 3, 3, 4, 4, 4, 3, 3, 3, 3, 3, 3, 3, 3, 0, 0, 3, 0, 3, 0, 0,\n",
              "       0, 4, 1, 1, 1, 4, 4, 0, 0, 0, 4, 3, 4, 2, 3, 3, 3, 0, 1, 4, 0, 4,\n",
              "       0, 3, 0, 1, 1, 1, 0, 0, 0, 3, 3, 3, 3, 4, 0, 0, 3, 0, 3, 0, 4, 1,\n",
              "       2, 4, 3, 4, 4, 4, 1, 1, 4, 1, 1, 0, 3, 3, 0, 0, 0, 3, 2, 2, 2, 3,\n",
              "       3, 3, 3, 2, 2, 2, 3, 4, 1, 3, 1, 1, 1, 4, 3, 1, 1, 1, 1, 1, 2, 4,\n",
              "       1, 1, 3, 1, 1, 1, 1, 1, 3, 1, 0, 4, 0, 1, 4, 1, 0, 1, 3, 0, 0, 2,\n",
              "       1, 3, 1, 3, 1, 1, 1, 2, 0, 1, 1, 1, 1, 4, 1, 4, 0, 1, 1, 0, 4, 1,\n",
              "       0, 0, 1, 1, 1, 1, 1, 0, 4, 4, 2, 4, 4, 0, 0, 1, 1, 1, 3, 1, 1, 0,\n",
              "       1, 1, 0, 0, 0, 1, 4, 1, 1, 1, 1, 4, 1, 3, 4, 2, 1, 1, 0, 4, 2, 1,\n",
              "       1, 0, 1, 1, 1, 1, 1, 1, 1, 0, 3, 1, 2, 4, 0, 0, 1, 2, 1, 0, 0, 2,\n",
              "       1, 1, 0, 1, 0, 1, 1, 0, 3, 3, 3, 0, 4, 1, 1, 2, 3, 4, 3, 0, 0, 3,\n",
              "       0, 0, 0, 3, 3, 2, 2, 3, 4, 4, 4, 3, 3, 4, 4, 4, 3, 3, 3, 3, 3, 3,\n",
              "       3, 3, 0, 0, 3, 0, 3, 0, 0, 0, 4, 0, 1, 1, 1, 1, 0, 0, 0, 4, 3, 4,\n",
              "       2, 3, 3, 3, 0, 1, 4, 0, 4, 0, 3, 0, 1, 1, 1, 0, 0, 0, 3, 3, 3, 3,\n",
              "       4, 0, 0, 3, 0, 3, 0, 4, 1, 2, 4, 3, 4, 4, 4, 1, 1, 4, 1, 1, 0, 3,\n",
              "       3, 0, 0, 0, 3, 2, 2, 2, 3, 3, 3, 3, 2, 2, 2, 3, 4, 2, 4, 1, 4, 0,\n",
              "       2, 4, 4, 3, 2, 2, 3, 1, 4, 4, 4, 0, 0, 3, 0, 0, 0, 3, 3, 2, 2, 3,\n",
              "       4, 4, 4, 3, 3, 4, 4, 4, 3, 3, 3, 3, 3, 3, 3, 3, 0, 0, 3, 0, 3, 0,\n",
              "       0, 0, 4, 0, 1, 1, 1, 1, 0, 0, 0, 4, 3, 4, 2, 3, 3, 3, 0, 1, 4, 0,\n",
              "       4, 0, 3, 0, 1, 1, 1, 0, 0, 0, 3, 3, 3, 3, 4, 0, 0, 3, 0, 3, 0, 4,\n",
              "       1, 2, 4, 3, 4, 4, 4, 1, 1, 4, 1, 1, 0, 3, 3, 0, 0, 0, 3, 2, 2, 2,\n",
              "       3, 3, 3, 3, 2, 2, 2, 3, 4, 2, 4, 1, 4, 0, 2, 4, 4, 3, 2, 2, 3, 1,\n",
              "       4, 4, 4])"
            ]
          },
          "execution_count": 7,
          "metadata": {},
          "output_type": "execute_result"
        }
      ],
      "source": [
        "y_kmeans"
      ]
    },
    {
      "cell_type": "code",
      "execution_count": 11,
      "metadata": {
        "colab": {
          "base_uri": "https://localhost:8080/",
          "height": 295
        },
        "id": "Qf2eKOCKjZhk",
        "outputId": "5920f1b4-7e29-43f6-e0ff-6dd8f3ea835e"
      },
      "outputs": [
        {
          "data": {
            "image/png": "[encoded data removed]",
            "text/plain": [
              "<Figure size 640x480 with 1 Axes>"
            ]
          },
          "metadata": {},
          "output_type": "display_data"
        }
      ],
      "source": [
        "plt.scatter(df_x[y_kmeans == 0, 0], df_x[y_kmeans == 0, 1], s = 50, c='red', label ='Cluster 1')\n",
        "plt.scatter(df_x[y_kmeans == 1, 0], df_x[y_kmeans == 1, 1], s = 50, c='blue', label ='Cluster 2')\n",
        "plt.scatter(df_x[y_kmeans == 2, 0], df_x[y_kmeans == 2, 1], s = 50, c='green', label ='Cluster 3')\n",
        "plt.scatter(df_x[y_kmeans == 3, 0], df_x[y_kmeans == 3, 1], s = 50, c='cyan', label ='Cluster 4')\n",
        "plt.scatter(df_x[y_kmeans == 4, 0], df_x[y_kmeans == 4, 1], s = 50, c='magenta', label ='Cluster 5')\n",
        "plt.scatter(kmeans.cluster_centers_[:, 0], kmeans.cluster_centers_[:, 1], s=200, c='yellow', label = 'Centroids')\n",
        "plt.title('Clusters of employee')\n",
        "plt.xlabel('KPI')\n",
        "plt.ylabel('Employee')\n",
        "plt.legend()\n",
        "plt.show()"
      ]
    },
    {
      "cell_type": "code",
      "execution_count": 12,
      "metadata": {},
      "outputs": [],
      "source": [
        "import pickle"
      ]
    },
    {
      "cell_type": "code",
      "execution_count": 14,
      "metadata": {},
      "outputs": [],
      "source": [
        "filename = 'employee.sav'\n",
        "pickle.dump(model, open(filename, 'wb'))"
      ]
    }
  ],
  "metadata": {
    "colab": {
      "provenance": []
    },
    "kernelspec": {
      "display_name": "Python 3",
      "language": "python",
      "name": "python3"
    },
    "language_info": {
      "codemirror_mode": {
        "name": "ipython",
        "version": 3
      },
      "file_extension": ".py",
      "mimetype": "text/x-python",
      "name": "python",
      "nbconvert_exporter": "python",
      "pygments_lexer": "ipython3",
      "version": "3.11.1"
    },
    "vscode": {
      "interpreter": {
        "hash": "1bfd3319633fd8c7aa5134e93d0128e2f6536b2ccba51be3053a4ff1c5f4e04b"
      }
    }
  },
  "nbformat": 4,
  "nbformat_minor": 0
}
